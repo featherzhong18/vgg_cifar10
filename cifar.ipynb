{
 "cells": [
  {
   "cell_type": "code",
   "execution_count": 35,
   "metadata": {},
   "outputs": [],
   "source": [
    "import torch\n",
    "import torchvision\n",
    "import torchvision.transforms as transforms"
   ]
  },
  {
   "cell_type": "code",
   "execution_count": 36,
   "metadata": {},
   "outputs": [
    {
     "name": "stdout",
     "output_type": "stream",
     "text": [
      "Files already downloaded and verified\n",
      "1250\n",
      "Files already downloaded and verified\n",
      "250\n"
     ]
    }
   ],
   "source": [
    "# 获取数据集并进行处理\n",
    "transform = transforms.Compose(\n",
    "    [transforms.ToTensor(),\n",
    "     transforms.Normalize((0.5, 0.5, 0.5), (0.5, 0.5, 0.5))])\n",
    "\n",
    "batch_size = 40 # batch个数\n",
    "lr = 0.001 # 学习率\n",
    "step_size = 10 # 每n个epoch更新学习率\n",
    "\n",
    "# 从torchvision中获取CIFAR-10的训练集\n",
    "trainset = torchvision.datasets.CIFAR10(root='./data', train=True,\n",
    "                                        download=True, transform=transform)\n",
    "# 分批                                        \n",
    "trainloader = torch.utils.data.DataLoader(trainset, batch_size=batch_size,\n",
    "                                          shuffle=True, num_workers=2)\n",
    "                    \n",
    "print(len(trainloader))\n",
    "\n",
    "# 获取测试集\n",
    "testset = torchvision.datasets.CIFAR10(root='./data', train=False,\n",
    "                                       download=True, transform=transform)\n",
    "# 分批\n",
    "testloader = torch.utils.data.DataLoader(testset, batch_size=batch_size,\n",
    "                                         shuffle=False, num_workers=2)\n",
    "print(len(testloader))\n",
    "\n",
    "# 数据集中总的类别\n",
    "classes = ('plane', 'car', 'bird', 'cat', 'deer', 'dog', 'frog', 'horse', 'ship', 'truck')"
   ]
  },
  {
   "cell_type": "code",
   "execution_count": 37,
   "metadata": {},
   "outputs": [
    {
     "name": "stdout",
     "output_type": "stream",
     "text": [
      "cuda\n"
     ]
    }
   ],
   "source": [
    "device = torch.device('cuda' if torch.cuda.is_available() else 'cpu')\n",
    "print(device)"
   ]
  },
  {
   "cell_type": "code",
   "execution_count": 38,
   "metadata": {},
   "outputs": [],
   "source": [
    "# 确定使用的模型\n",
    "\n",
    "# from CNN import *\n",
    "# # 使用原来的CNN模型\n",
    "# net = CNN()\n",
    "\n",
    "from VGG import *\n",
    "# 使用VGG16模型\n",
    "net = VGG16()"
   ]
  },
  {
   "cell_type": "code",
   "execution_count": 39,
   "metadata": {},
   "outputs": [],
   "source": [
    "import torch.optim as optim\n",
    "\n",
    "criterion = nn.CrossEntropyLoss()\n",
    "optimizer = optim.SGD(net.parameters(), lr=lr, momentum=0.9)\n",
    "# 调整学习率\n",
    "scheduler = optim.lr_scheduler.StepLR(optimizer, step_size=step_size, gamma=0.5, last_epoch=-1)\n",
    "epoch_num = 30\n",
    "accuracy_rate = []"
   ]
  },
  {
   "cell_type": "code",
   "execution_count": 41,
   "metadata": {},
   "outputs": [],
   "source": [
    "# 定义测试函数\n",
    "def test():\n",
    "    correct = 0\n",
    "    total = 0\n",
    "    with torch.no_grad():\n",
    "        for data in testloader:\n",
    "            images, labels = data\n",
    "            images = images.to(device)\n",
    "            outputs = net(images).to(device)\n",
    "            outputs = outputs.cpu()\n",
    "            _, predicted = torch.max(outputs.data, 1)\n",
    "            total += labels.size(0)\n",
    "            correct += (predicted == labels).sum().item()\n",
    "    accuracy = 100 * correct // total\n",
    "    accuracy_rate.append(accuracy)\n",
    "    # print(f'Accuracy of the CNN on the test images: {accuracy} %')\n",
    "    print(f'Accuracy of the VGG16 on the test images: {accuracy} %')"
   ]
  },
  {
   "cell_type": "code",
   "execution_count": 42,
   "metadata": {},
   "outputs": [
    {
     "name": "stdout",
     "output_type": "stream",
     "text": [
      "312\n",
      "[1,   312] loss: 2.302\n",
      "[1,   624] loss: 2.297\n",
      "[1,   936] loss: 2.281\n",
      "[1,  1248] loss: 2.214\n",
      "Accuracy of the CNN on the test images: 23 %\n",
      "[2,   312] loss: 2.085\n",
      "[2,   624] loss: 1.945\n",
      "[2,   936] loss: 1.856\n",
      "[2,  1248] loss: 1.795\n",
      "Accuracy of the CNN on the test images: 36 %\n",
      "[3,   312] loss: 1.737\n",
      "[3,   624] loss: 1.686\n",
      "[3,   936] loss: 1.658\n",
      "[3,  1248] loss: 1.627\n",
      "Accuracy of the CNN on the test images: 40 %\n",
      "[4,   312] loss: 1.587\n",
      "[4,   624] loss: 1.547\n",
      "[4,   936] loss: 1.532\n",
      "[4,  1248] loss: 1.499\n",
      "Accuracy of the CNN on the test images: 46 %\n",
      "[5,   312] loss: 1.477\n",
      "[5,   624] loss: 1.443\n",
      "[5,   936] loss: 1.427\n",
      "[5,  1248] loss: 1.425\n",
      "Accuracy of the CNN on the test images: 48 %\n",
      "[6,   312] loss: 1.387\n",
      "[6,   624] loss: 1.378\n",
      "[6,   936] loss: 1.359\n",
      "[6,  1248] loss: 1.335\n",
      "Accuracy of the CNN on the test images: 52 %\n",
      "[7,   312] loss: 1.312\n",
      "[7,   624] loss: 1.312\n",
      "[7,   936] loss: 1.303\n",
      "[7,  1248] loss: 1.278\n",
      "Accuracy of the CNN on the test images: 53 %\n",
      "[8,   312] loss: 1.254\n",
      "[8,   624] loss: 1.245\n",
      "[8,   936] loss: 1.257\n",
      "[8,  1248] loss: 1.221\n",
      "Accuracy of the CNN on the test images: 54 %\n",
      "[9,   312] loss: 1.198\n",
      "[9,   624] loss: 1.203\n",
      "[9,   936] loss: 1.190\n",
      "[9,  1248] loss: 1.201\n",
      "Accuracy of the CNN on the test images: 56 %\n",
      "[10,   312] loss: 1.142\n",
      "[10,   624] loss: 1.172\n",
      "[10,   936] loss: 1.151\n",
      "[10,  1248] loss: 1.162\n",
      "Accuracy of the CNN on the test images: 58 %\n",
      "[11,   312] loss: 1.107\n",
      "[11,   624] loss: 1.084\n",
      "[11,   936] loss: 1.112\n",
      "[11,  1248] loss: 1.088\n",
      "Accuracy of the CNN on the test images: 59 %\n",
      "[12,   312] loss: 1.083\n",
      "[12,   624] loss: 1.064\n",
      "[12,   936] loss: 1.079\n",
      "[12,  1248] loss: 1.080\n",
      "Accuracy of the CNN on the test images: 59 %\n",
      "[13,   312] loss: 1.053\n",
      "[13,   624] loss: 1.056\n",
      "[13,   936] loss: 1.060\n",
      "[13,  1248] loss: 1.068\n",
      "Accuracy of the CNN on the test images: 60 %\n",
      "[14,   312] loss: 1.031\n",
      "[14,   624] loss: 1.055\n",
      "[14,   936] loss: 1.028\n",
      "[14,  1248] loss: 1.049\n",
      "Accuracy of the CNN on the test images: 61 %\n",
      "[15,   312] loss: 1.013\n",
      "[15,   624] loss: 1.027\n",
      "[15,   936] loss: 1.038\n",
      "[15,  1248] loss: 1.014\n",
      "Accuracy of the CNN on the test images: 61 %\n",
      "[16,   312] loss: 1.007\n",
      "[16,   624] loss: 1.010\n",
      "[16,   936] loss: 1.013\n",
      "[16,  1248] loss: 1.009\n",
      "Accuracy of the CNN on the test images: 61 %\n",
      "[17,   312] loss: 0.978\n",
      "[17,   624] loss: 0.991\n",
      "[17,   936] loss: 0.994\n",
      "[17,  1248] loss: 1.011\n",
      "Accuracy of the CNN on the test images: 61 %\n",
      "[18,   312] loss: 0.977\n",
      "[18,   624] loss: 0.973\n",
      "[18,   936] loss: 0.980\n",
      "[18,  1248] loss: 0.982\n",
      "Accuracy of the CNN on the test images: 61 %\n",
      "[19,   312] loss: 0.958\n",
      "[19,   624] loss: 0.967\n",
      "[19,   936] loss: 0.953\n",
      "[19,  1248] loss: 0.975\n",
      "Accuracy of the CNN on the test images: 62 %\n",
      "[20,   312] loss: 0.948\n",
      "[20,   624] loss: 0.940\n",
      "[20,   936] loss: 0.954\n",
      "[20,  1248] loss: 0.966\n",
      "Accuracy of the CNN on the test images: 62 %\n",
      "[21,   312] loss: 0.908\n",
      "[21,   624] loss: 0.919\n",
      "[21,   936] loss: 0.914\n",
      "[21,  1248] loss: 0.919\n",
      "Accuracy of the CNN on the test images: 63 %\n",
      "[22,   312] loss: 0.908\n",
      "[22,   624] loss: 0.915\n",
      "[22,   936] loss: 0.898\n",
      "[22,  1248] loss: 0.905\n",
      "Accuracy of the CNN on the test images: 63 %\n",
      "[23,   312] loss: 0.889\n",
      "[23,   624] loss: 0.911\n",
      "[23,   936] loss: 0.905\n",
      "[23,  1248] loss: 0.894\n",
      "Accuracy of the CNN on the test images: 63 %\n",
      "[24,   312] loss: 0.886\n",
      "[24,   624] loss: 0.891\n",
      "[24,   936] loss: 0.893\n",
      "[24,  1248] loss: 0.892\n",
      "Accuracy of the CNN on the test images: 63 %\n",
      "[25,   312] loss: 0.876\n",
      "[25,   624] loss: 0.887\n",
      "[25,   936] loss: 0.882\n",
      "[25,  1248] loss: 0.887\n",
      "Accuracy of the CNN on the test images: 63 %\n",
      "[26,   312] loss: 0.868\n",
      "[26,   624] loss: 0.853\n",
      "[26,   936] loss: 0.895\n",
      "[26,  1248] loss: 0.883\n",
      "Accuracy of the CNN on the test images: 63 %\n",
      "[27,   312] loss: 0.856\n",
      "[27,   624] loss: 0.863\n",
      "[27,   936] loss: 0.872\n",
      "[27,  1248] loss: 0.884\n",
      "Accuracy of the CNN on the test images: 64 %\n",
      "[28,   312] loss: 0.859\n",
      "[28,   624] loss: 0.858\n",
      "[28,   936] loss: 0.872\n",
      "[28,  1248] loss: 0.856\n",
      "Accuracy of the CNN on the test images: 63 %\n",
      "[29,   312] loss: 0.849\n",
      "[29,   624] loss: 0.865\n",
      "[29,   936] loss: 0.849\n",
      "[29,  1248] loss: 0.853\n",
      "Accuracy of the CNN on the test images: 63 %\n",
      "[30,   312] loss: 0.846\n",
      "[30,   624] loss: 0.844\n",
      "[30,   936] loss: 0.848\n",
      "[30,  1248] loss: 0.850\n",
      "Accuracy of the CNN on the test images: 64 %\n",
      "Finished Training\n"
     ]
    }
   ],
   "source": [
    "# 训练模型\n",
    "print_num = int(len(trainset) // batch_size // 4) # 每n个输出一次损失率\n",
    "print(print_num)\n",
    "accuracy_rate = []\n",
    "for epoch in range(epoch_num):\n",
    "    net.train()\n",
    "    net.to(device)\n",
    "    running_loss = 0.0\n",
    "    for i, data in enumerate(trainloader, 0):\n",
    "        inputs, labels = data\n",
    "        inputs = inputs.to(device)\n",
    "        labels = labels.to(device)\n",
    "        # 情况参数梯度\n",
    "        optimizer.zero_grad()\n",
    "\n",
    "        # 前向传播\n",
    "        outputs = net(inputs).to(device)\n",
    "        # 反向传播，计算梯度\n",
    "        loss = criterion(outputs, labels)\n",
    "        loss.backward()\n",
    "        # 更新参数\n",
    "        optimizer.step()\n",
    "\n",
    "        running_loss += loss.item()\n",
    "        if i % print_num == print_num - 1:\n",
    "            print(f'[{epoch + 1}, {i + 1:5d}] loss: {running_loss / print_num:.3f}')\n",
    "            running_loss = 0.0\n",
    "    scheduler.step()\n",
    "    test()\n",
    "\n",
    "print('Finished Training')"
   ]
  },
  {
   "cell_type": "code",
   "execution_count": 43,
   "metadata": {},
   "outputs": [],
   "source": [
    "# 保存训练模型\n",
    "# PATH = './cifar_net.pth'\n",
    "PATH = './cifar_vgg.pth'\n",
    "torch.save(net.state_dict(), PATH)"
   ]
  },
  {
   "cell_type": "code",
   "execution_count": 44,
   "metadata": {},
   "outputs": [
    {
     "name": "stdout",
     "output_type": "stream",
     "text": [
      "times:  [ 1.  2.  3.  4.  5.  6.  7.  8.  9. 10. 11. 12. 13. 14. 15. 16. 17. 18.\n",
      " 19. 20. 21. 22. 23. 24. 25. 26. 27. 28. 29. 30.]\n",
      "accuracy:  [23, 36, 40, 46, 48, 52, 53, 54, 56, 58, 59, 59, 60, 61, 61, 61, 61, 61, 62, 62, 63, 63, 63, 63, 63, 63, 64, 63, 63, 64]\n"
     ]
    },
    {
     "data": {
      "image/png": "[encoded data removed]",
      "text/plain": [
       "<Figure size 640x480 with 1 Axes>"
      ]
     },
     "metadata": {},
     "output_type": "display_data"
    }
   ],
   "source": [
    "import matplotlib.pyplot as plt\n",
    "import numpy as np\n",
    "\n",
    "# 画出分类准确率变化折线图\n",
    "times = np.linspace(1, epoch_num, epoch_num)\n",
    "print('times: ', times)\n",
    "print('accuracy: ', accuracy_rate)\n",
    "plt.title(f'change in accuracy(epoch={epoch_num}, batch_size={batch_size}, lr={lr})')\n",
    "plt.xlabel('times')\n",
    "plt.ylabel('accuracy_rate')\n",
    "plt.plot(times, accuracy_rate)\n",
    "plt.show()"
   ]
  }
 ],
 "metadata": {
  "kernelspec": {
   "display_name": "Python 3.8.5 ('vgg_cuda')",
   "language": "python",
   "name": "python3"
  },
  "language_info": {
   "codemirror_mode": {
    "name": "ipython",
    "version": 3
   },
   "file_extension": ".py",
   "mimetype": "text/x-python",
   "name": "python",
   "nbconvert_exporter": "python",
   "pygments_lexer": "ipython3",
   "version": "3.8.16"
  },
  "orig_nbformat": 4,
  "vscode": {
   "interpreter": {
    "hash": "b6d5e25d3883711e22ad0a04caf5b644ed2cbae8f9cc7943405d61d2816a389a"
   }
  }
 },
 "nbformat": 4,
 "nbformat_minor": 2
}
